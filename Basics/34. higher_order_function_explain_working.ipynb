{
 "cells": [
  {
   "cell_type": "code",
   "execution_count": 1,
   "metadata": {},
   "outputs": [
    {
     "name": "stdout",
     "output_type": "stream",
     "text": [
      "[1, 4, 9, 16, 25, 36]\n",
      "*****\n",
      "[1, 4, 9, 16, 25, 36]\n"
     ]
    }
   ],
   "source": [
    "#map(function, iterable)\n",
    "numbers=[1,2,3,4,5,6]\n",
    "def square(x):\n",
    "    return x**2\n",
    "\n",
    "#2 ways \n",
    "#withlambda\n",
    "squared_numbers=list(map(lambda x:x**2,numbers))\n",
    "print(squared_numbers)\n",
    "print(\"*****\")\n",
    "#without lambda\n",
    "squared_numbers=list(map(square,numbers))\n",
    "print(squared_numbers)"
   ]
  },
  {
   "cell_type": "markdown",
   "metadata": {},
   "source": [
    "| Step | Element | Function Applied | Result |  \n",
    "| :-: | :-: | :-: | :-   \n",
    "| Step 1 | 1 | square(1) → 1 | [1]   \n",
    "| Step 2 | 2 | square(2) → 4 | [1,4]   \n",
    "| Step 3 | 3 | square(3) → 9 | [1,4,9]   \n",
    "| Step 4 | 4 | square(4) → 16 | [1,4,9,16]   \n",
    "| Step 5 | 5 | square(5) → 25 | [1,4,9,16,25]    \n",
    "| Step 6 | 6 | square(6) → 36 | [1,4,9,16,25,36]    "
   ]
  },
  {
   "cell_type": "markdown",
   "metadata": {},
   "source": [
    "### sorted"
   ]
  },
  {
   "cell_type": "code",
   "execution_count": 2,
   "metadata": {},
   "outputs": [
    {
     "name": "stdout",
     "output_type": "stream",
     "text": [
      "['Praveen', 'Dipak', 'Jhon']\n",
      "['Praveen', 'Dipak', 'Jhon']\n"
     ]
    }
   ],
   "source": [
    "#sorted(iterable,key=function,reverse=False)\n",
    "names=[\"Praveen\",\"Jhon\",\"Dipak\"]\n",
    "def by_length(name):\n",
    "    return len(name)\n",
    "\n",
    "\n",
    "#with lambda\n",
    "print(sorted(names,key=lambda x:len(x),reverse=True))\n",
    "\n",
    "#without lambda\n",
    "print(sorted(names,key=by_length,reverse=True))"
   ]
  },
  {
   "cell_type": "markdown",
   "metadata": {},
   "source": [
    "| Step | Element | Key function result len(name) |  \n",
    "| :-: | :-: | :-:  \n",
    "| Step 1 | \"Praveen\" | by_length(\"Praveen\") → 7   \n",
    "| Step 2 | \"Jhon\" | by_length(\"Jhon\") → 4  \n",
    "| Step 3 | \"Dipak\" | by_length(\"Dipak\") → 5       \n"
   ]
  },
  {
   "cell_type": "markdown",
   "metadata": {},
   "source": [
    "### Reduce"
   ]
  },
  {
   "cell_type": "code",
   "execution_count": 6,
   "metadata": {},
   "outputs": [
    {
     "name": "stdout",
     "output_type": "stream",
     "text": [
      "21\n",
      " intermediate 3 x=1 y=2\n",
      " intermediate 6 x=3 y=3\n",
      " intermediate 10 x=6 y=4\n",
      " intermediate 15 x=10 y=5\n",
      " intermediate 21 x=15 y=6\n",
      "21\n"
     ]
    }
   ],
   "source": [
    "from functools import reduce\n",
    "#reduce(function,iterable)\n",
    "numbers=[1,2,3,4,5,6]\n",
    "def add(x,y):\n",
    "    print(f\" intermediate {x+y} x={x} y={y}\")\n",
    "    return x+y\n",
    "\n",
    "#with lambda\n",
    "print(reduce(lambda x,y:x+y,numbers))\n",
    "\n",
    "#without lambda\n",
    "print(reduce(add,numbers))"
   ]
  },
  {
   "cell_type": "markdown",
   "metadata": {},
   "source": [
    "| Step | Inputs | Function Applied | Intermediate Result |  \n",
    "| :-: | :-: | :-: | :-   \n",
    "| Step 1 | 1,2 | add(1,2) → 3 | 3 \n",
    "| Step 2 | 3,3 | add(3,3) → 6 | 6  \n",
    "| Step 3 | 6,4 | add(6,4) → 10 | 10   \n",
    "| Step 4 | 10,5 | add(10,5) → 15 | 15   \n",
    "| Step 5 | 15,6 | add(15,6) → 21 | 21  "
   ]
  },
  {
   "cell_type": "markdown",
   "metadata": {},
   "source": [
    "### filter"
   ]
  },
  {
   "cell_type": "code",
   "execution_count": 9,
   "metadata": {},
   "outputs": [
    {
     "name": "stdout",
     "output_type": "stream",
     "text": [
      "[2, 4, 6]\n",
      "x=1\n",
      "False\n",
      "x=2\n",
      "True\n",
      "x=3\n",
      "False\n",
      "x=4\n",
      "True\n",
      "x=5\n",
      "False\n",
      "x=6\n",
      "True\n",
      "[2, 4, 6]\n"
     ]
    }
   ],
   "source": [
    "#filter(func,iterable)\n",
    "numbers=[1,2,3,4,5,6]\n",
    "def is_even(x):\n",
    "    print(f\"x={x}\")\n",
    "    print(x%2==0)\n",
    "    return x%2==0\n",
    "\n",
    "#with lambda\n",
    "print(list(filter(lambda x:x%2==0,numbers)))\n",
    "\n",
    "#without lambda\n",
    "print(list(filter(is_even,numbers)))"
   ]
  },
  {
   "cell_type": "markdown",
   "metadata": {},
   "source": [
    "| Step | Inputs | Function Applied (x%2==0) | Included In O/P |  \n",
    "| :-: | :-: | :-: | :-   \n",
    "| Step 1 | 1 | is_even(1) → False | False  \n",
    "| Step 2 | 2 | is_even(2) → True | True  \n",
    "| Step 3 | 3 | is_even(3) → False | False   \n",
    "| Step 4 | 4 | is_even(4) → True | True   \n",
    "| Step 5 | 5 | is_even(5) → False | False  \n",
    "| Step 6 | 6 | is_even(6) → True | True  "
   ]
  },
  {
   "cell_type": "code",
   "execution_count": null,
   "metadata": {},
   "outputs": [],
   "source": []
  }
 ],
 "metadata": {
  "kernelspec": {
   "display_name": "Python 3",
   "language": "python",
   "name": "python3"
  },
  "language_info": {
   "codemirror_mode": {
    "name": "ipython",
    "version": 3
   },
   "file_extension": ".py",
   "mimetype": "text/x-python",
   "name": "python",
   "nbconvert_exporter": "python",
   "pygments_lexer": "ipython3",
   "version": "3.11.1"
  }
 },
 "nbformat": 4,
 "nbformat_minor": 2
}
