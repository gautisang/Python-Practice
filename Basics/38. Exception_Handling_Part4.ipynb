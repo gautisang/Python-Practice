{
 "cells": [
  {
   "cell_type": "code",
   "execution_count": 15,
   "metadata": {},
   "outputs": [
    {
     "name": "stdout",
     "output_type": "stream",
     "text": [
      "result is 3.3333333333333335\n"
     ]
    }
   ],
   "source": [
    "try:\n",
    "    num=3\n",
    "    result=10/num\n",
    "except ZeroDivisionError:\n",
    "    print(\"division by zero error\")\n",
    "except ValueError:\n",
    "    print(\"please input integer\")\n",
    "else:\n",
    "    print(f\"result is {result}\")"
   ]
  },
  {
   "cell_type": "code",
   "execution_count": 16,
   "metadata": {},
   "outputs": [
    {
     "name": "stdout",
     "output_type": "stream",
     "text": [
      "ERROR:root:Enter valid number invalid literal for int() with base 10: 'a'\n",
      "ERROR:root:Enter valid number. Number can't be zero\n",
      "\n",
      "finally executed\n"
     ]
    }
   ],
   "source": [
    "try:\n",
    "    file=open(\"erro1.log\")\n",
    "    content=file.read()\n",
    "    print(content)\n",
    "except FileNotFoundError:\n",
    "    print(\"File not found\")\n",
    "finally:\n",
    "    print(\"finally executed\")\n",
    "    file.close()\n"
   ]
  },
  {
   "cell_type": "code",
   "execution_count": 17,
   "metadata": {},
   "outputs": [
    {
     "name": "stdout",
     "output_type": "stream",
     "text": [
      "division by zero error\n",
      "finally exceuted\n"
     ]
    }
   ],
   "source": [
    "try:\n",
    "    num=0\n",
    "    result=10/num\n",
    "except ZeroDivisionError:\n",
    "    print(\"division by zero error\")\n",
    "except ValueError:\n",
    "    print(\"please input integer\")\n",
    "finally:\n",
    "    print(f\"finally exceuted\")"
   ]
  },
  {
   "cell_type": "code",
   "execution_count": null,
   "metadata": {},
   "outputs": [],
   "source": []
  },
  {
   "cell_type": "code",
   "execution_count": null,
   "metadata": {},
   "outputs": [],
   "source": []
  },
  {
   "cell_type": "code",
   "execution_count": null,
   "metadata": {},
   "outputs": [],
   "source": []
  }
 ],
 "metadata": {
  "kernelspec": {
   "display_name": "Python 3",
   "language": "python",
   "name": "python3"
  },
  "language_info": {
   "codemirror_mode": {
    "name": "ipython",
    "version": 3
   },
   "file_extension": ".py",
   "mimetype": "text/x-python",
   "name": "python",
   "nbconvert_exporter": "python",
   "pygments_lexer": "ipython3",
   "version": "3.11.1"
  }
 },
 "nbformat": 4,
 "nbformat_minor": 2
}
