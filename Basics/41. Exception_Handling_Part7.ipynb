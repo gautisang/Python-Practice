{
 "cells": [
  {
   "cell_type": "markdown",
   "metadata": {},
   "source": [
    "### Exception Logging"
   ]
  },
  {
   "cell_type": "code",
   "execution_count": 1,
   "metadata": {},
   "outputs": [
    {
     "name": "stderr",
     "output_type": "stream",
     "text": [
      "2025-03-16 09:33:44,333 - ERROR - Divsion by zero\n"
     ]
    }
   ],
   "source": [
    "import logging\n",
    "logging.basicConfig(level=logging.DEBUG, format=\"%(asctime)s - %(levelname)s - %(message)s\")\n",
    "\n",
    "try:\n",
    "    2/0\n",
    "except ZeroDivisionError:\n",
    "    logging.error(\"Divsion by zero\")\n"
   ]
  },
  {
   "cell_type": "code",
   "execution_count": 2,
   "metadata": {},
   "outputs": [
    {
     "name": "stderr",
     "output_type": "stream",
     "text": [
      "2025-03-16 09:34:03,882 - DEBUG - Divsion by zero\n"
     ]
    }
   ],
   "source": [
    "import logging\n",
    "logging.basicConfig(level=logging.DEBUG, format=\"%(asctime)s - %(levelname)s - %(message)s\")\n",
    "\n",
    "try:\n",
    "    2/0\n",
    "except ZeroDivisionError:\n",
    "    logging.debug(\"Divsion by zero\")\n"
   ]
  },
  {
   "cell_type": "code",
   "execution_count": 3,
   "metadata": {},
   "outputs": [
    {
     "name": "stderr",
     "output_type": "stream",
     "text": [
      "2025-03-16 09:34:56,482 - ERROR - Divsion by zero\n"
     ]
    }
   ],
   "source": [
    "import logging\n",
    "logging.basicConfig(filename=\"errornew.log\",level=logging.DEBUG, format=\"%(asctime)s - %(levelname)s - %(message)s\")\n",
    "\n",
    "try:\n",
    "    2/0\n",
    "except ZeroDivisionError:\n",
    "    logging.error(\"Divsion by zero\")\n"
   ]
  },
  {
   "cell_type": "code",
   "execution_count": 6,
   "metadata": {},
   "outputs": [
    {
     "name": "stderr",
     "output_type": "stream",
     "text": [
      "2025-03-16 09:36:22,180 - DEBUG - Divsion by zero\n"
     ]
    }
   ],
   "source": [
    "import logging\n",
    "logging.basicConfig(filename=\"error1.log\",level=logging.DEBUG, format=\"%(asctime)s - %(levelname)s - %(message)s\")\n",
    "\n",
    "try:\n",
    "    2/0\n",
    "except ZeroDivisionError:\n",
    "    logging.debug(\"Divsion by zero\")\n"
   ]
  },
  {
   "cell_type": "code",
   "execution_count": null,
   "metadata": {},
   "outputs": [],
   "source": []
  }
 ],
 "metadata": {
  "kernelspec": {
   "display_name": "Python 3",
   "language": "python",
   "name": "python3"
  },
  "language_info": {
   "codemirror_mode": {
    "name": "ipython",
    "version": 3
   },
   "file_extension": ".py",
   "mimetype": "text/x-python",
   "name": "python",
   "nbconvert_exporter": "python",
   "pygments_lexer": "ipython3",
   "version": "3.11.1"
  }
 },
 "nbformat": 4,
 "nbformat_minor": 2
}
