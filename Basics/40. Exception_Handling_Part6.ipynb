{
 "cells": [
  {
   "cell_type": "markdown",
   "metadata": {},
   "source": [
    "### Custom Exception"
   ]
  },
  {
   "cell_type": "code",
   "execution_count": 11,
   "metadata": {},
   "outputs": [
    {
     "name": "stdout",
     "output_type": "stream",
     "text": [
      "Insufficient Funds: Tried to withdraw 200 but balance is 100\n"
     ]
    }
   ],
   "source": [
    "class InsufficientFundsError(Exception):\n",
    "    def __init__(self,balance,amount):\n",
    "        super().__init__(f\"Insufficient Funds: Tried to withdraw {amount} but balance is {balance}\")\n",
    "\n",
    "class BankAccount:\n",
    "    def __init__(self,balance):\n",
    "        self.balance=balance\n",
    "\n",
    "    def withdraw(self,amount):\n",
    "        if amount>self.balance:\n",
    "            raise InsufficientFundsError(self.balance,amount)\n",
    "        self.balance-=amount\n",
    "        return self.balance\n",
    "    \n",
    "try:\n",
    "    account=BankAccount(100)\n",
    "    print(account.withdraw(200))\n",
    "except InsufficientFundsError as e:\n",
    "    print(e)\n",
    "    "
   ]
  },
  {
   "cell_type": "code",
   "execution_count": 7,
   "metadata": {},
   "outputs": [
    {
     "name": "stdout",
     "output_type": "stream",
     "text": [
      "Insufficient Balance 200 balance 100\n"
     ]
    }
   ],
   "source": [
    "class InsufficientFundsError(Exception):\n",
    "    pass\n",
    "\n",
    "class BankAccount:\n",
    "    def __init__(self,balance):\n",
    "        self.balance=balance\n",
    "\n",
    "    def withdraw(self,amount):\n",
    "        if amount>self.balance:\n",
    "            raise InsufficientFundsError(f\"Insufficient Balance {amount} balance {self.balance}\")\n",
    "        self.balance-=amount\n",
    "        return self.balance\n",
    "    \n",
    "try:\n",
    "    account=BankAccount(100)\n",
    "    print(account.withdraw(200))\n",
    "except InsufficientFundsError as e:\n",
    "    print(e)\n",
    "    "
   ]
  },
  {
   "cell_type": "code",
   "execution_count": null,
   "metadata": {},
   "outputs": [],
   "source": []
  }
 ],
 "metadata": {
  "kernelspec": {
   "display_name": "Python 3",
   "language": "python",
   "name": "python3"
  },
  "language_info": {
   "codemirror_mode": {
    "name": "ipython",
    "version": 3
   },
   "file_extension": ".py",
   "mimetype": "text/x-python",
   "name": "python",
   "nbconvert_exporter": "python",
   "pygments_lexer": "ipython3",
   "version": "3.11.1"
  }
 },
 "nbformat": 4,
 "nbformat_minor": 2
}
