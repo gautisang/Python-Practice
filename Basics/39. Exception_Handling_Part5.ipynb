{
 "cells": [
  {
   "cell_type": "code",
   "execution_count": 16,
   "metadata": {},
   "outputs": [
    {
     "name": "stdout",
     "output_type": "stream",
     "text": [
      "age is 3\n"
     ]
    }
   ],
   "source": [
    "def set_age(age):\n",
    "    if age<0:\n",
    "        raise ValueError(\"Age can't be negative\")\n",
    "    print(f\"age is {age}\")\n",
    "\n",
    "try:\n",
    "    set_age(3)\n",
    "except ValueError as e:\n",
    "    print(f\"Error is {e}\")\n"
   ]
  },
  {
   "cell_type": "code",
   "execution_count": 12,
   "metadata": {},
   "outputs": [
    {
     "name": "stdout",
     "output_type": "stream",
     "text": [
      "16\n"
     ]
    }
   ],
   "source": [
    "def cal_square(num):\n",
    "    if not isinstance(num,int):\n",
    "        raise TypeError(\"Expected integer number\")\n",
    "    return num**2\n",
    "\n",
    "try:\n",
    "    print(cal_square(4))\n",
    "except TypeError as e:\n",
    "    print(f\"Error is {e}\")"
   ]
  },
  {
   "cell_type": "code",
   "execution_count": null,
   "metadata": {},
   "outputs": [],
   "source": []
  }
 ],
 "metadata": {
  "kernelspec": {
   "display_name": "Python 3",
   "language": "python",
   "name": "python3"
  },
  "language_info": {
   "codemirror_mode": {
    "name": "ipython",
    "version": 3
   },
   "file_extension": ".py",
   "mimetype": "text/x-python",
   "name": "python",
   "nbconvert_exporter": "python",
   "pygments_lexer": "ipython3",
   "version": "3.11.1"
  }
 },
 "nbformat": 4,
 "nbformat_minor": 2
}
