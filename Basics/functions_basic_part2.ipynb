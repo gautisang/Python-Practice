{
 "cells": [
  {
   "cell_type": "code",
   "execution_count": 13,
   "metadata": {},
   "outputs": [
    {
     "name": "stdout",
     "output_type": "stream",
     "text": [
      "7\n"
     ]
    }
   ],
   "source": [
    "#default Parameter\n",
    "def add(a=3,b=4):\n",
    "    print(a+b)\n",
    "\n",
    "add()"
   ]
  },
  {
   "cell_type": "code",
   "execution_count": 14,
   "metadata": {},
   "outputs": [
    {
     "name": "stdout",
     "output_type": "stream",
     "text": [
      "my name is Rahul and age is 25\n"
     ]
    }
   ],
   "source": [
    "#*args\n",
    "\n",
    "def greet(name,age):\n",
    "    print(f\"my name is {name} and age is {age}\")\n",
    "\n",
    "greet('Rahul',25)"
   ]
  },
  {
   "cell_type": "code",
   "execution_count": 16,
   "metadata": {},
   "outputs": [
    {
     "name": "stdout",
     "output_type": "stream",
     "text": [
      "10\n",
      "(1, 2, 3, 4)\n"
     ]
    }
   ],
   "source": [
    "def add(*args): #tuple\n",
    "    print(sum(args))\n",
    "    print(args)\n",
    "\n",
    "add(1,2,3,4)"
   ]
  },
  {
   "cell_type": "code",
   "execution_count": 18,
   "metadata": {},
   "outputs": [
    {
     "name": "stdout",
     "output_type": "stream",
     "text": [
      "{'name': 'Rahul', 'age': 30, 'country': 'India'}\n",
      "name,Rahul\n",
      "age,30\n",
      "country,India\n"
     ]
    }
   ],
   "source": [
    "#**kwargs key=value dictionary\n",
    "\n",
    "def display(**kwargs):\n",
    "    print(kwargs)\n",
    "    for key,value in kwargs.items():\n",
    "        print(f\"{key},{value}\")\n",
    "\n",
    "display(name=\"Rahul\",age=30,country='India')"
   ]
  },
  {
   "cell_type": "code",
   "execution_count": 22,
   "metadata": {},
   "outputs": [
    {
     "name": "stdout",
     "output_type": "stream",
     "text": [
      "a is 1 and b is 2\n",
      "Additions positional args <class 'tuple'>\n",
      "Additions key-value args <class 'dict'>\n"
     ]
    }
   ],
   "source": [
    "def combine(a,b,*args,**kwargs):\n",
    "    print(f\"a is {a} and b is {b}\")\n",
    "    print(f\"Additions positional args {type(args)}\") #tuple\n",
    "    print(f\"Additions key-value args {type(kwargs)}\") #dictionary\n",
    "\n",
    "combine(1,2,3,4,5,6,7,x=10,y=20)"
   ]
  },
  {
   "cell_type": "code",
   "execution_count": null,
   "metadata": {},
   "outputs": [],
   "source": []
  }
 ],
 "metadata": {
  "kernelspec": {
   "display_name": "Python 3",
   "language": "python",
   "name": "python3"
  },
  "language_info": {
   "codemirror_mode": {
    "name": "ipython",
    "version": 3
   },
   "file_extension": ".py",
   "mimetype": "text/x-python",
   "name": "python",
   "nbconvert_exporter": "python",
   "pygments_lexer": "ipython3",
   "version": "3.11.1"
  }
 },
 "nbformat": 4,
 "nbformat_minor": 2
}
