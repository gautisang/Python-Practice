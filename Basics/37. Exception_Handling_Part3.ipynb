{
 "cells": [
  {
   "cell_type": "code",
   "execution_count": 9,
   "metadata": {},
   "outputs": [
    {
     "name": "stdout",
     "output_type": "stream",
     "text": [
      "Enter valid number invalid literal for int() with base 10: 'a'\n",
      "Success\n"
     ]
    }
   ],
   "source": [
    "\n",
    "### calling except without any Exeption \n",
    "\n",
    "#try-catch\n",
    "try:\n",
    "    num=int(input(\"Enter a num\"))\n",
    "    print(10/num)\n",
    "    with open(\"data.txt\",\"r\") as file:\n",
    "        print(file.read())\n",
    "except ZeroDivisionError:\n",
    "    print(\"Enter valid number. Number can't be zero\")\n",
    "except ValueError as e:\n",
    "    print(f\"Enter valid number {e}\")\n",
    "except FileNotFoundError as e:\n",
    "    print(f\"file is not  present {e}\")\n",
    "\n",
    "print(\"Success\")\n"
   ]
  },
  {
   "cell_type": "code",
   "execution_count": 11,
   "metadata": {},
   "outputs": [
    {
     "name": "stdout",
     "output_type": "stream",
     "text": [
      "Success\n"
     ]
    }
   ],
   "source": [
    "import logging\n",
    "logging.basicConfig(filename=\"erro1.log\",level=logging.ERROR)\n",
    "\n",
    "\n",
    "### calling except without any Exeption \n",
    "\n",
    "#try-catch\n",
    "try:\n",
    "    num=int(input(\"Enter a num\"))\n",
    "    print(10/num)\n",
    "    with open(\"data.txt\",\"r\") as file:\n",
    "        print(file.read())\n",
    "except ZeroDivisionError:\n",
    "    logging.error(\"Enter valid number. Number can't be zero\")\n",
    "except ValueError as e:\n",
    "    logging.error(f\"Enter valid number {e}\")\n",
    "except FileNotFoundError as e:\n",
    "    logging.error(f\"file is not  present {e}\")\n",
    "\n",
    "print(\"Success\")\n"
   ]
  },
  {
   "cell_type": "code",
   "execution_count": null,
   "metadata": {},
   "outputs": [],
   "source": []
  }
 ],
 "metadata": {
  "kernelspec": {
   "display_name": "Python 3",
   "language": "python",
   "name": "python3"
  },
  "language_info": {
   "codemirror_mode": {
    "name": "ipython",
    "version": 3
   },
   "file_extension": ".py",
   "mimetype": "text/x-python",
   "name": "python",
   "nbconvert_exporter": "python",
   "pygments_lexer": "ipython3",
   "version": "3.11.1"
  }
 },
 "nbformat": 4,
 "nbformat_minor": 2
}
